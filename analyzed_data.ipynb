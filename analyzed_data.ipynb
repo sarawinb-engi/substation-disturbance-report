{
 "cells": [
  {
   "cell_type": "code",
   "execution_count": 1,
   "id": "f6433eac",
   "metadata": {},
   "outputs": [],
   "source": [
    "import numpy as np\n",
    "import pandas as pd \n",
    "import matplotlib.pyplot as plt \n",
    "import seaborn as sns \n",
    "from mpl_toolkits.mplot3d import Axes3D \n",
    "import matplotlib.ticker as ticker \n",
    "from matplotlib import cm \n",
    "import matplotlib as mpl "
   ]
  },
  {
   "cell_type": "markdown",
   "id": "2b9c675d",
   "metadata": {},
   "source": [
    "### **Function SEMI-F47** "
   ]
  },
  {
   "cell_type": "code",
   "execution_count": 3,
   "id": "33b8602b",
   "metadata": {},
   "outputs": [],
   "source": [
    "def plot_semi_f47(duration, voltage): \n",
    "    sns.set_theme(style='ticks', palette='muted')\n",
    "    fig, ax = plt.subplots(figsize = (10, 5)) \n",
    "    \n",
    "    plt.text(400, 40, \n",
    "             \"Misoperation Region\", \n",
    "             fontsize=15, \n",
    "             fontweight='bold') \n",
    "    plt.text(400, 40,\n",
    "             \"Unffected Region\",\n",
    "             fontsize=15, \n",
    "             fontweight='bold')\n",
    "    # Plot data point \n",
    "    scatter_fn = ax.scatter(duration, voltage, \n",
    "                            c=voltage, \n",
    "                            label='% Vnominal',\n",
    "                            alpha=0.85, \n",
    "                            edgecolors='black', \n",
    "                            marker='o',\n",
    "                            cmap='plasma_r' \n",
    "                            )\n",
    "    # SEMI F47 Standard Segment \n",
    "    x1, y1 = [50, 200], [50, 50] \n",
    "    x2, y2 = [200, 500], [70, 70] \n",
    "    x3, y3 = [500, 1000], [80, 80] \n",
    "    \n",
    "    ax.plot(x1, y1, c='#0000CD', linewidth=2)\n",
    "    ax.plot(x2, y2, c='#0000CD', linewidth=2)\n",
    "    ax.plot(x3, y3, c='#0000CD', linewidth=2)  \n",
    "    \n",
    "    # vertical line \n",
    "    ax.axvline(x=200, ymin=0.5, ymax=0.7, c='#0000CD', linewidth=2)\n",
    "    ax.axvline(x=500, ymin=0.7, ymax=0.8, c='#0000CD', linewidth=2) \n",
    "    \n",
    "    \n",
    "    ax.set_xlabel('Duration (ms)') \n",
    "    ax.set_ylabel('% Vnominal')\n",
    "    ax.set_title('SEMI F47-0706 Voltage Sag Analysis', fontweight='bold') \n",
    "    \n",
    "    ax.set_xlim(0, 1000) \n",
    "    ax.set_ylim(0, 100)\n",
    "    ax.set_xticks(range(0, 1001, 100)) \n",
    "    ax.set_yticks(range(0, 101, 10)) \n",
    "    \n",
    "    ax.grid(True, c='gray', alpha=0.58) \n",
    "    \n",
    "    fig.colorbar(scatter_fn, label='Vnominal %', \n",
    "                 orientation='vertical', \n",
    "                 pad=0.2) \n",
    "    \n",
    "    plt.figtext(0.95, -0.1, \n",
    "                \"\\n Prepared by Sarawin Buakaew, 2025\\n\"\n",
    "                \"Data From Protection Relay REF630 ABB\"\n",
    "                \"Process by Python Programming\", \n",
    "                ha='right', \n",
    "                va='bottom',\n",
    "                fontsize=10,\n",
    "                c='gray') \n",
    "    \n",
    "    plt.tight_layout()\n",
    "    plt.savefig('semi_f47.png', dpi=300, bbox_inches='tight') \n",
    "    ax.legend()\n",
    "    plt.show() "
   ]
  },
  {
   "cell_type": "markdown",
   "id": "af1981c3",
   "metadata": {},
   "source": [
    "### **Process Analyzed** "
   ]
  },
  {
   "cell_type": "code",
   "execution_count": 21,
   "id": "85eaf068",
   "metadata": {},
   "outputs": [
    {
     "data": {
      "text/html": [
       "<div>\n",
       "<style scoped>\n",
       "    .dataframe tbody tr th:only-of-type {\n",
       "        vertical-align: middle;\n",
       "    }\n",
       "\n",
       "    .dataframe tbody tr th {\n",
       "        vertical-align: top;\n",
       "    }\n",
       "\n",
       "    .dataframe thead th {\n",
       "        text-align: right;\n",
       "    }\n",
       "</style>\n",
       "<table border=\"1\" class=\"dataframe\">\n",
       "  <thead>\n",
       "    <tr style=\"text-align: right;\">\n",
       "      <th></th>\n",
       "      <th>Event Date</th>\n",
       "      <th>Confirmed Faults</th>\n",
       "      <th>Fault Strat time (s)</th>\n",
       "      <th>Fault End time (s)</th>\n",
       "      <th>Fault Duration (ms)</th>\n",
       "      <th>Voltage Sag</th>\n",
       "      <th>Voltage p.u.</th>\n",
       "    </tr>\n",
       "  </thead>\n",
       "  <tbody>\n",
       "    <tr>\n",
       "      <th>0</th>\n",
       "      <td>11-01-2025</td>\n",
       "      <td>Phase C</td>\n",
       "      <td>0.47</td>\n",
       "      <td>0.73</td>\n",
       "      <td>252.0</td>\n",
       "      <td>36.69</td>\n",
       "      <td>0.63</td>\n",
       "    </tr>\n",
       "  </tbody>\n",
       "</table>\n",
       "</div>"
      ],
      "text/plain": [
       "   Event Date Confirmed Faults  Fault Strat time (s)  Fault End time (s)  \\\n",
       "0  11-01-2025          Phase C                  0.47                0.73   \n",
       "\n",
       "   Fault Duration (ms)  Voltage Sag   Voltage p.u.  \n",
       "0                252.0         36.69          0.63  "
      ]
     },
     "execution_count": 21,
     "metadata": {},
     "output_type": "execute_result"
    }
   ],
   "source": [
    "file_path = 'results/fault_analysis_results.csv'\n",
    "df = pd.read_csv(file_path, encoding='utf-8') \n",
    "df"
   ]
  },
  {
   "cell_type": "code",
   "execution_count": null,
   "id": "c916bec8",
   "metadata": {},
   "outputs": [],
   "source": []
  }
 ],
 "metadata": {
  "kernelspec": {
   "display_name": "drcomtrade",
   "language": "python",
   "name": "python3"
  },
  "language_info": {
   "codemirror_mode": {
    "name": "ipython",
    "version": 3
   },
   "file_extension": ".py",
   "mimetype": "text/x-python",
   "name": "python",
   "nbconvert_exporter": "python",
   "pygments_lexer": "ipython3",
   "version": "3.13.2"
  }
 },
 "nbformat": 4,
 "nbformat_minor": 5
}
